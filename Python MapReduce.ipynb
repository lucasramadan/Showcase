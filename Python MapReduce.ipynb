{
 "cells": [
  {
   "cell_type": "markdown",
   "metadata": {},
   "source": [
    "## Skills Illustrated\n",
    "* **NLP**\n",
    "    * Regular Expressions (RegEx)\n",
    "    * Tokenization\n",
    "* **Parallelization**\n",
    "    * MapReduce"
   ]
  },
  {
   "cell_type": "markdown",
   "metadata": {},
   "source": [
    "### Imports"
   ]
  },
  {
   "cell_type": "code",
   "execution_count": 229,
   "metadata": {
    "ExecuteTime": {
     "end_time": "2016-11-28T14:42:19.715100",
     "start_time": "2016-11-28T14:42:19.705153"
    },
    "collapsed": false,
    "run_control": {
     "frozen": false,
     "read_only": false
    }
   },
   "outputs": [],
   "source": [
    "# MR processing\n",
    "from functools import reduce as reduce # python 3 does not have built-in \n",
    "from multiprocessing import Pool # for parallel processing\n",
    "\n",
    "# NLP\n",
    "import re # regular expressions\n",
    "import string # simple string formatting \n",
    "from nltk import word_tokenize # tokenizer\n",
    "from nltk.corpus import stopwords # token removal\n",
    "\n",
    "# other\n",
    "import requests # handling URLs\n",
    "from collections import Counter # data structure\n",
    "import numpy as np\n",
    "\n",
    "# plotting\n",
    "import matplotlib.pyplot as plt\n",
    "import seaborn\n",
    "%matplotlib inline"
   ]
  },
  {
   "cell_type": "markdown",
   "metadata": {},
   "source": [
    "### Text Data"
   ]
  },
  {
   "cell_type": "code",
   "execution_count": 253,
   "metadata": {
    "ExecuteTime": {
     "end_time": "2016-11-28T14:49:04.094829",
     "start_time": "2016-11-28T14:49:03.490920"
    },
    "collapsed": false,
    "run_control": {
     "frozen": false,
     "read_only": false
    },
    "scrolled": true
   },
   "outputs": [
    {
     "data": {
      "text/plain": [
       "'\\ufeffProject Gutenberg’s Alice’s Adventures in Wonderland, by Lewis Carroll\\r\\n\\r\\nThis eBook is for the use'"
      ]
     },
     "execution_count": 253,
     "metadata": {},
     "output_type": "execute_result"
    }
   ],
   "source": [
    "text_url = 'http://www.gutenberg.org/files/11/11-0.txt'\n",
    "req = requests.get(text_url)\n",
    "content = req.text\n",
    "content[:100]"
   ]
  },
  {
   "cell_type": "markdown",
   "metadata": {},
   "source": [
    "### Pre-Processing"
   ]
  },
  {
   "cell_type": "code",
   "execution_count": 121,
   "metadata": {
    "ExecuteTime": {
     "end_time": "2016-11-28T13:34:52.625058",
     "start_time": "2016-11-28T13:34:52.622240"
    },
    "collapsed": true
   },
   "outputs": [],
   "source": [
    "# clip the start and end of the book\n",
    "start_pat = '*** START OF THIS PROJECT GUTENBERG EBOOK ALICE’S ADVENTURES IN WONDERLAND ***'\n",
    "end_pat = '*** END OF THIS PROJECT GUTENBERG EBOOK ALICE’S ADVENTURES IN WONDERLAND ***'"
   ]
  },
  {
   "cell_type": "code",
   "execution_count": 122,
   "metadata": {
    "ExecuteTime": {
     "end_time": "2016-11-28T13:34:54.659447",
     "start_time": "2016-11-28T13:34:54.654181"
    },
    "collapsed": false
   },
   "outputs": [],
   "source": [
    "# finding where the text truly begins\n",
    "start_i = content.index(start_pat) + len(start_pat)\n",
    "end_i = content.index(end_pat) \n",
    "content = content[start_i:end_i]\n",
    "content = content.lower()"
   ]
  },
  {
   "cell_type": "code",
   "execution_count": 124,
   "metadata": {
    "ExecuteTime": {
     "end_time": "2016-11-28T13:35:14.843818",
     "start_time": "2016-11-28T13:35:14.838996"
    },
    "collapsed": false
   },
   "outputs": [
    {
     "data": {
      "text/plain": [
       "12"
      ]
     },
     "execution_count": 124,
     "metadata": {},
     "output_type": "execute_result"
    }
   ],
   "source": [
    "# separating text by chapters\n",
    "chapter_pat = 'chapter [ivx.]+[ ]*[\\w -]*[\\\\r\\\\n]*'\n",
    "chapters = re.split(chapter_pat, content)[1:]\n",
    "n_chapters = len(chapters)\n",
    "n_chapters"
   ]
  },
  {
   "cell_type": "code",
   "execution_count": 125,
   "metadata": {
    "ExecuteTime": {
     "end_time": "2016-11-28T13:35:17.953328",
     "start_time": "2016-11-28T13:35:17.773603"
    },
    "collapsed": false
   },
   "outputs": [],
   "source": [
    "formatting_pat = '[(\\r)(\\n)]'\n",
    "\n",
    "# were going to get rid of formatting characters (\\r, \\n)\n",
    "# and tokenize each chapter, for processing later\n",
    "chapters = [word_tokenize(re.sub(formatting_pat, ' ', chapter)) for chapter in chapters]"
   ]
  },
  {
   "cell_type": "code",
   "execution_count": 156,
   "metadata": {
    "ExecuteTime": {
     "end_time": "2016-11-28T13:41:34.306814",
     "start_time": "2016-11-28T13:41:34.286414"
    },
    "collapsed": true,
    "run_control": {
     "frozen": false,
     "read_only": false
    }
   },
   "outputs": [],
   "source": [
    "p = Pool(n_chapters)"
   ]
  },
  {
   "cell_type": "code",
   "execution_count": 157,
   "metadata": {
    "ExecuteTime": {
     "end_time": "2016-11-28T13:41:34.651403",
     "start_time": "2016-11-28T13:41:34.640979"
    },
    "collapsed": true
   },
   "outputs": [],
   "source": [
    "# simple counter function, which will also remove some punctuation tokens\n",
    "def count_terms(data):\n",
    "    \n",
    "    # list of punctuation characters we want to remove\n",
    "    remove = list(string.punctuation) + ['--', \"’\"]\n",
    "    \n",
    "    # where we store our token counts\n",
    "    c = Counter(data)\n",
    "    \n",
    "    # try to remove all punctuation characters\n",
    "    for punct in remove:\n",
    "        try:\n",
    "            c.pop(punct)\n",
    "        except:\n",
    "            # we don't care if there is no occurence of a punctuation token\n",
    "            pass  \n",
    "    \n",
    "    # return counts\n",
    "    return c"
   ]
  },
  {
   "cell_type": "markdown",
   "metadata": {},
   "source": [
    "### Map Phase"
   ]
  },
  {
   "cell_type": "code",
   "execution_count": 158,
   "metadata": {
    "ExecuteTime": {
     "end_time": "2016-11-28T13:41:35.029436",
     "start_time": "2016-11-28T13:41:35.008098"
    },
    "collapsed": false,
    "run_control": {
     "frozen": false,
     "read_only": false
    }
   },
   "outputs": [],
   "source": [
    "pooled_counts = p.map(count_terms, chapters)"
   ]
  },
  {
   "cell_type": "code",
   "execution_count": 160,
   "metadata": {
    "ExecuteTime": {
     "end_time": "2016-11-28T13:42:01.707058",
     "start_time": "2016-11-28T13:42:01.703886"
    },
    "collapsed": false,
    "run_control": {
     "frozen": false,
     "read_only": false
    }
   },
   "outputs": [
    {
     "data": {
      "text/plain": [
       "12"
      ]
     },
     "execution_count": 160,
     "metadata": {},
     "output_type": "execute_result"
    }
   ],
   "source": [
    "# one for each chapter\n",
    "len(pooled_counts)"
   ]
  },
  {
   "cell_type": "markdown",
   "metadata": {},
   "source": [
    "### Reduce Phase"
   ]
  },
  {
   "cell_type": "code",
   "execution_count": 164,
   "metadata": {
    "ExecuteTime": {
     "end_time": "2016-11-28T13:44:34.801865",
     "start_time": "2016-11-28T13:44:34.781989"
    },
    "collapsed": false
   },
   "outputs": [],
   "source": [
    "total_counts = reduce(lambda c1, c2: c1 + c2, pooled_counts)"
   ]
  },
  {
   "cell_type": "markdown",
   "metadata": {},
   "source": [
    "### Results"
   ]
  },
  {
   "cell_type": "code",
   "execution_count": 166,
   "metadata": {
    "ExecuteTime": {
     "end_time": "2016-11-28T13:44:47.912911",
     "start_time": "2016-11-28T13:44:47.909653"
    },
    "collapsed": false
   },
   "outputs": [
    {
     "data": {
      "text/plain": [
       "3064"
      ]
     },
     "execution_count": 166,
     "metadata": {},
     "output_type": "execute_result"
    }
   ],
   "source": [
    "# unique words\n",
    "len(total_counts)"
   ]
  },
  {
   "cell_type": "code",
   "execution_count": 167,
   "metadata": {
    "ExecuteTime": {
     "end_time": "2016-11-28T13:45:06.993955",
     "start_time": "2016-11-28T13:45:06.988977"
    },
    "collapsed": false
   },
   "outputs": [
    {
     "data": {
      "text/plain": [
       "[('the', 1609),\n",
       " ('and', 808),\n",
       " ('to', 719),\n",
       " ('a', 615),\n",
       " ('she', 537),\n",
       " ('of', 499),\n",
       " ('it', 489),\n",
       " ('said', 462),\n",
       " ('alice', 385),\n",
       " ('in', 357)]"
      ]
     },
     "execution_count": 167,
     "metadata": {},
     "output_type": "execute_result"
    }
   ],
   "source": [
    "# top 10 most used words\n",
    "# not surprisingly, mostly stop words\n",
    "total_counts.most_common(10)"
   ]
  },
  {
   "cell_type": "code",
   "execution_count": 171,
   "metadata": {
    "ExecuteTime": {
     "end_time": "2016-11-28T13:47:49.163968",
     "start_time": "2016-11-28T13:47:49.159739"
    },
    "collapsed": false
   },
   "outputs": [],
   "source": [
    "# we could now choose to remove the stop words\n",
    "# to make things a bit more interesting\n",
    "\n",
    "sws = stopwords.words('english')\n",
    "\n",
    "for sw in sws: \n",
    "    try: \n",
    "        total_counts.pop(sw)\n",
    "    except:\n",
    "        pass"
   ]
  },
  {
   "cell_type": "code",
   "execution_count": 173,
   "metadata": {
    "ExecuteTime": {
     "end_time": "2016-11-28T13:47:57.859268",
     "start_time": "2016-11-28T13:47:57.855563"
    },
    "collapsed": false
   },
   "outputs": [
    {
     "data": {
      "text/plain": [
       "2941"
      ]
     },
     "execution_count": 173,
     "metadata": {},
     "output_type": "execute_result"
    }
   ],
   "source": [
    "len(total_counts)"
   ]
  },
  {
   "cell_type": "code",
   "execution_count": 174,
   "metadata": {
    "ExecuteTime": {
     "end_time": "2016-11-28T13:48:09.603701",
     "start_time": "2016-11-28T13:48:09.598827"
    },
    "collapsed": false
   },
   "outputs": [
    {
     "data": {
      "text/plain": [
       "[('said', 462),\n",
       " ('alice', 385),\n",
       " ('little', 127),\n",
       " ('‘i', 126),\n",
       " ('one', 97),\n",
       " ('like', 83),\n",
       " ('went', 83),\n",
       " ('would', 78),\n",
       " ('know', 78),\n",
       " ('could', 77)]"
      ]
     },
     "execution_count": 174,
     "metadata": {},
     "output_type": "execute_result"
    }
   ],
   "source": [
    "total_counts.most_common(10)"
   ]
  },
  {
   "cell_type": "markdown",
   "metadata": {},
   "source": [
    "### Visualization"
   ]
  },
  {
   "cell_type": "code",
   "execution_count": 251,
   "metadata": {
    "ExecuteTime": {
     "end_time": "2016-11-28T14:48:40.194259",
     "start_time": "2016-11-28T14:48:40.187345"
    },
    "collapsed": false
   },
   "outputs": [],
   "source": [
    "# some data type forcing\n",
    "top_10 = dict(total_counts.most_common(10))\n",
    "xr = np.asarray(range(len(top_10)))\n",
    "yr = np.asarray(list(top_10.values()))\n",
    "yr = yr / sum(total_counts.values())\n",
    "lab = np.asarray(list(top_10.keys()))\n",
    "\n",
    "# using numpy's argsort\n",
    "sort_i = np.argsort(yr)[::-1]\n",
    "yr = yr[sort_i]\n",
    "lab = lab[sort_i]"
   ]
  },
  {
   "cell_type": "code",
   "execution_count": 252,
   "metadata": {
    "ExecuteTime": {
     "end_time": "2016-11-28T14:48:42.366089",
     "start_time": "2016-11-28T14:48:41.981623"
    },
    "collapsed": false
   },
   "outputs": [
    {
     "data": {
      "image/png": "[encoded data removed]",
      "text/plain": [
       "<matplotlib.figure.Figure at 0x130b37128>"
      ]
     },
     "metadata": {},
     "output_type": "display_data"
    }
   ],
   "source": [
    "# show the frequencies of words\n",
    "plt.figure(figsize=(10, 10))\n",
    "plt.bar(xr, yr, tick_label=lab, )\n",
    "plt.title('Top 10 Most Frequent Words')\n",
    "plt.xlabel('Word')\n",
    "plt.ylabel('Frequency');"
   ]
  },
  {
   "cell_type": "markdown",
   "metadata": {},
   "source": [
    " "
   ]
  }
 ],
 "metadata": {
  "anaconda-cloud": {},
  "kernelspec": {
   "display_name": "Python [conda env:python3]",
   "language": "python",
   "name": "conda-env-python3-py"
  },
  "language_info": {
   "codemirror_mode": {
    "name": "ipython",
    "version": 3
   },
   "file_extension": ".py",
   "mimetype": "text/x-python",
   "name": "python",
   "nbconvert_exporter": "python",
   "pygments_lexer": "ipython3",
   "version": "3.5.2"
  }
 },
 "nbformat": 4,
 "nbformat_minor": 0
}
